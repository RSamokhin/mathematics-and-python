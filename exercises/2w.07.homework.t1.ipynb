{
 "cells": [
  {
   "cell_type": "code",
   "execution_count": 103,
   "metadata": {
    "collapsed": false
   },
   "outputs": [
    {
     "name": "stdout",
     "output_type": "stream",
     "text": [
      "6 4\n"
     ]
    }
   ],
   "source": [
    "import re as regular;\n",
    "import collections;\n",
    "import numpy as np;\n",
    "import scipy.spatial;\n",
    "file = open('./2w.07.homework.t1.data.txt', 'r');\n",
    "lines = file.readlines();\n",
    "file.close();\n",
    "def lower (x):\n",
    "    return x.lower();\n",
    "lines = map(lower, lines);\n",
    "def toWords (x):\n",
    "    return filter(lambda x: len(x), regular.split('[^a-z]', x));\n",
    "lines = map(toWords, lines)\n",
    "\n",
    "words = set();\n",
    "for line in lines:\n",
    "    for word in line:\n",
    "        words.add(word);\n",
    "            \n",
    "\n",
    "def countWords (x):\n",
    "    counts = collections.Counter(x);\n",
    "    return map(lambda w: [0, counts.get(w)][counts.get(w) >= 0], words);\n",
    "            \n",
    "counts = map(countWords, lines);\n",
    "counts = np.array(counts)\n",
    "\n",
    "\n",
    "def countCosDist (x, y):\n",
    "    return spatial.distance.cosine(x, y);\n",
    "\n",
    "cosines = map(lambda x: countCosDist(counts[0], x), counts);\n",
    "cosinesSorted = np.sort(cosines);\n",
    "\n",
    "\n",
    "min1 = np.where(cosines == cosinesSorted[1])[0][0];\n",
    "min2 = np.where(cosines == cosinesSorted[2])[0][0];\n",
    "\n",
    "file = open('./2w.07.homework.t1.sollution.txt', 'w');\n",
    "file.write(str(min1) + ' ' + str(min2));\n",
    "file.close();\n",
    "print(str(min1) + ' ' + str(min2));"
   ]
  }
 ],
 "metadata": {
  "kernelspec": {
   "display_name": "Python 2",
   "language": "python",
   "name": "python2"
  },
  "language_info": {
   "codemirror_mode": {
    "name": "ipython",
    "version": 2
   },
   "file_extension": ".py",
   "mimetype": "text/x-python",
   "name": "python",
   "nbconvert_exporter": "python",
   "pygments_lexer": "ipython2",
   "version": "2.7.10"
  }
 },
 "nbformat": 4,
 "nbformat_minor": 1
}
