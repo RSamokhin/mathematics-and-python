{
 "cells": [
  {
   "cell_type": "code",
   "execution_count": 9,
   "metadata": {
    "collapsed": false
   },
   "outputs": [
    {
     "name": "stdout",
     "output_type": "stream",
     "text": [
      "[ 4.36264154 -1.29552587  0.19333685 -0.00823565]\n"
     ]
    }
   ],
   "source": [
    "import numpy as np;\n",
    "import matplotlib.pyplot as plt;\n",
    "fig = plt.figure;\n",
    "x = np.linspace(1, 15);\n",
    "\n",
    "line1 = plt.plot(x, np.sin(x / 5) * np.exp(x / 10) + 5 * np.exp(-x / 2))\n",
    "\n",
    "def calculate (x):\n",
    "    return np.sin(x / 5.) * np.exp(x / 10.) + 5. * np.exp(-x / 2.);\n",
    "\n",
    "a = np.array([1, 15])\n",
    "c = np.array([1, 8, 15])\n",
    "e = np.array([1, 4, 10, 15]);\n",
    "\n",
    "b = np.array(map(calculate, a));\n",
    "d = np.array(map(calculate, c));\n",
    "f = np.array(map(calculate, e));\n",
    "\n",
    "def extend1 (x):\n",
    "    return [1, x];\n",
    "def extend2 (x):\n",
    "    return [1, x, x * x];\n",
    "def extend3 (x):\n",
    "    return [1, x, x * x, x * x * x];\n",
    "\n",
    "a = map(extend1, a);\n",
    "c = map(extend2, c);\n",
    "e = map(extend3, e);\n",
    "\n",
    "r = np.linalg.solve(a, b)\n",
    "\n",
    "line2 = plt.plot(x, x * r[1] + r[0])\n",
    "\n",
    "r = np.linalg.solve(c, d)\n",
    "\n",
    "line3 = plt.plot(x, x * x * r[2] + x * r[1] + r[0])\n",
    "\n",
    "r = np.linalg.solve(e, f)\n",
    "\n",
    "line4 = plt.plot(x, x * x * x * r[3] + x * x * r[2] + x * r[1] + r[0])\n",
    "\n",
    "print r;\n",
    "file = open('./2w.07.homework.t2.sollution.txt', 'w');\n",
    "for s in r:\n",
    "    file.write(str(s) + ' ');\n",
    "file.close();\n",
    "\n",
    "plt.show();"
   ]
  }
 ],
 "metadata": {
  "kernelspec": {
   "display_name": "Python 2",
   "language": "python",
   "name": "python2"
  },
  "language_info": {
   "codemirror_mode": {
    "name": "ipython",
    "version": 2
   },
   "file_extension": ".py",
   "mimetype": "text/x-python",
   "name": "python",
   "nbconvert_exporter": "python",
   "pygments_lexer": "ipython2",
   "version": "2.7.10"
  }
 },
 "nbformat": 4,
 "nbformat_minor": 1
}
